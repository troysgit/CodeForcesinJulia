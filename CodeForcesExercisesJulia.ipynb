{
 "cells": [
  {
   "cell_type": "markdown",
   "id": "94efef04",
   "metadata": {},
   "source": [
    "Problem 4A Watermelon\n",
    "Input w (1 <= w <= 100)"
   ]
  },
  {
   "cell_type": "code",
   "execution_count": 2,
   "id": "f28789d6",
   "metadata": {},
   "outputs": [
    {
     "data": {
      "text/plain": [
       "true"
      ]
     },
     "execution_count": 2,
     "metadata": {},
     "output_type": "execute_result"
    }
   ],
   "source": [
    "1 <= 3"
   ]
  },
  {
   "cell_type": "code",
   "execution_count": 7,
   "id": "8c2aeccf",
   "metadata": {},
   "outputs": [
    {
     "data": {
      "text/plain": [
       "2.0"
      ]
     },
     "execution_count": 7,
     "metadata": {},
     "output_type": "execute_result"
    }
   ],
   "source": [
    "4 / 2"
   ]
  },
  {
   "cell_type": "code",
   "execution_count": 19,
   "id": "b12ca55d",
   "metadata": {},
   "outputs": [
    {
     "data": {
      "text/plain": [
       "watermelon_splitting (generic function with 1 method)"
      ]
     },
     "execution_count": 19,
     "metadata": {},
     "output_type": "execute_result"
    }
   ],
   "source": [
    "# Print YES if the watermelon can be divided into two parts each weighing even number of\n",
    "# kilos; print NO otherwise \n",
    "function watermelon_splitting(w::Int)\n",
    "    y = w/2\n",
    "    if iseven(y) === true\n",
    "        return \"YES\"\n",
    "    else \n",
    "        return \"NO\"\n",
    "    end\n",
    "end"
   ]
  },
  {
   "cell_type": "code",
   "execution_count": 20,
   "id": "fc758639",
   "metadata": {},
   "outputs": [
    {
     "data": {
      "text/plain": [
       "\"YES\""
      ]
     },
     "execution_count": 20,
     "metadata": {},
     "output_type": "execute_result"
    }
   ],
   "source": [
    "watermelon_splitting(4)"
   ]
  },
  {
   "cell_type": "code",
   "execution_count": 21,
   "id": "bf9daad9",
   "metadata": {},
   "outputs": [
    {
     "data": {
      "text/plain": [
       "\"YES\""
      ]
     },
     "execution_count": 21,
     "metadata": {},
     "output_type": "execute_result"
    }
   ],
   "source": [
    "watermelon_splitting(100)"
   ]
  },
  {
   "cell_type": "code",
   "execution_count": 22,
   "id": "1b70d61b",
   "metadata": {},
   "outputs": [
    {
     "data": {
      "text/plain": [
       "\"NO\""
      ]
     },
     "execution_count": 22,
     "metadata": {},
     "output_type": "execute_result"
    }
   ],
   "source": [
    "watermelon_splitting(101)"
   ]
  },
  {
   "cell_type": "markdown",
   "id": "bb85f9ed",
   "metadata": {},
   "source": [
    "Problem 71A Way Too Long Words\n",
    "Word is too long if the length is > 10 characters.\n",
    "If it's too long, replace with special abbreviation:\n",
    "    - Take the first and last letter of the word\n",
    "    - Count number of characters between first and last letter and insert that number between the first and last letter. \n",
    "  \n",
    "e.g. localization -> l10n\n",
    "internationalization -> i18n"
   ]
  },
  {
   "cell_type": "code",
   "execution_count": 23,
   "id": "135a73b0",
   "metadata": {},
   "outputs": [
    {
     "data": {
      "text/plain": [
       "\"longword\""
      ]
     },
     "execution_count": 23,
     "metadata": {},
     "output_type": "execute_result"
    }
   ],
   "source": [
    "x = \"longword\""
   ]
  },
  {
   "cell_type": "code",
   "execution_count": 24,
   "id": "ca583950",
   "metadata": {},
   "outputs": [
    {
     "data": {
      "text/plain": [
       "8"
      ]
     },
     "execution_count": 24,
     "metadata": {},
     "output_type": "execute_result"
    }
   ],
   "source": [
    "length(x)"
   ]
  },
  {
   "cell_type": "code",
   "execution_count": 36,
   "id": "f774a163",
   "metadata": {},
   "outputs": [
    {
     "data": {
      "text/plain": [
       "6"
      ]
     },
     "execution_count": 36,
     "metadata": {},
     "output_type": "execute_result"
    }
   ],
   "source": [
    "length(x) - 2"
   ]
  },
  {
   "cell_type": "code",
   "execution_count": 40,
   "id": "78f13e68",
   "metadata": {
    "scrolled": true
   },
   "outputs": [
    {
     "data": {
      "text/plain": [
       "\"l6d\""
      ]
     },
     "execution_count": 40,
     "metadata": {},
     "output_type": "execute_result"
    }
   ],
   "source": [
    "string(x[begin], length(x)-2, x[end])"
   ]
  },
  {
   "cell_type": "code",
   "execution_count": 45,
   "id": "ea08060a",
   "metadata": {},
   "outputs": [
    {
     "data": {
      "text/plain": [
       "abbreviating_words (generic function with 1 method)"
      ]
     },
     "execution_count": 45,
     "metadata": {},
     "output_type": "execute_result"
    }
   ],
   "source": [
    "function abbreviating_words(x::Int,words)\n",
    "    for word in words\n",
    "        if length(word) > 10\n",
    "            a = string(word[begin], length(word)-2, word[end])\n",
    "        println(a)\n",
    "    else\n",
    "        println(word)\n",
    "        end\n",
    "    end\n",
    "end\n",
    "        \n",
    "        "
   ]
  },
  {
   "cell_type": "code",
   "execution_count": 43,
   "id": "49c9112d",
   "metadata": {},
   "outputs": [
    {
     "data": {
      "text/plain": [
       "3-element Vector{String}:\n",
       " \"hello\"\n",
       " \"goodbye\"\n",
       " \"didworkohno\""
      ]
     },
     "execution_count": 43,
     "metadata": {},
     "output_type": "execute_result"
    }
   ],
   "source": [
    "wordlist = [\"hello\", \"goodbye\", \"didworkohno\"]"
   ]
  },
  {
   "cell_type": "code",
   "execution_count": 46,
   "id": "fc0fb1e9",
   "metadata": {},
   "outputs": [
    {
     "name": "stdout",
     "output_type": "stream",
     "text": [
      "hello\n",
      "goodbye\n",
      "d9o\n"
     ]
    }
   ],
   "source": [
    "abbreviating_words(2, wordlist)"
   ]
  },
  {
   "cell_type": "markdown",
   "id": "3e262fad",
   "metadata": {},
   "source": [
    "I've got the general idea but need to include the integer input 'x' as the number of lines \n",
    "of words"
   ]
  },
  {
   "cell_type": "code",
   "execution_count": 48,
   "id": "2fe3cd9d",
   "metadata": {},
   "outputs": [
    {
     "data": {
      "text/plain": [
       "abbreviating_words_2 (generic function with 1 method)"
      ]
     },
     "execution_count": 48,
     "metadata": {},
     "output_type": "execute_result"
    }
   ],
   "source": [
    "function abbreviating_words_2(x::Int,words)\n",
    "    x = length(words)\n",
    "    for i in x\n",
    "        println(i)\n",
    "    for word in words\n",
    "        if length(word) > 10\n",
    "            a = string(word[begin], length(word)-2, word[end])\n",
    "        println(a)\n",
    "    else\n",
    "        println(word)\n",
    "            end\n",
    "        end\n",
    "    end\n",
    "end\n",
    "        \n"
   ]
  },
  {
   "cell_type": "code",
   "execution_count": 49,
   "id": "61f74610",
   "metadata": {},
   "outputs": [
    {
     "name": "stdout",
     "output_type": "stream",
     "text": [
      "3\n",
      "hello\n",
      "goodbye\n",
      "d9o\n"
     ]
    }
   ],
   "source": [
    "abbreviating_words_2(3, wordlist)"
   ]
  },
  {
   "cell_type": "code",
   "execution_count": 53,
   "id": "5b09a655",
   "metadata": {},
   "outputs": [
    {
     "data": {
      "text/plain": [
       "5-element Vector{String}:\n",
       " \"hi\"\n",
       " \"bye\"\n",
       " \"help\"\n",
       " \"extrkakjlfdljalsdkfj\"\n",
       " \"taasdfasdfaspestry\""
      ]
     },
     "execution_count": 53,
     "metadata": {},
     "output_type": "execute_result"
    }
   ],
   "source": [
    "five_words = [\"hi\",\"bye\",\"help\",\"extrkakjlfdljalsdkfj\",\"taasdfasdfaspestry\"]"
   ]
  },
  {
   "cell_type": "code",
   "execution_count": 54,
   "id": "c7a3b92c",
   "metadata": {},
   "outputs": [
    {
     "name": "stdout",
     "output_type": "stream",
     "text": [
      "5\n",
      "hi\n",
      "bye\n",
      "help\n",
      "e18j\n",
      "t16y\n"
     ]
    }
   ],
   "source": [
    "abbreviating_words_2(5, five_words)"
   ]
  },
  {
   "cell_type": "markdown",
   "id": "83828b2b",
   "metadata": {},
   "source": [
    "Maybe I should remove 'x' as an argument and insert it as a process at the beginning of the function"
   ]
  },
  {
   "cell_type": "code",
   "execution_count": 57,
   "id": "a10985ce",
   "metadata": {},
   "outputs": [
    {
     "data": {
      "text/plain": [
       "abbr_words (generic function with 1 method)"
      ]
     },
     "execution_count": 57,
     "metadata": {},
     "output_type": "execute_result"
    }
   ],
   "source": [
    "function abbr_words(words)\n",
    "    x = length(words)\n",
    "    \n",
    "    for i in x\n",
    "        println(i)\n",
    "        for word in words\n",
    "            if length(word) > 10\n",
    "                a = string(word[begin], length(word)-2, word[end])\n",
    "        println(a)\n",
    "    else\n",
    "        println(word)\n",
    "            end\n",
    "        end\n",
    "    end\n",
    "end"
   ]
  },
  {
   "cell_type": "code",
   "execution_count": 58,
   "id": "1c819c03",
   "metadata": {},
   "outputs": [
    {
     "name": "stdout",
     "output_type": "stream",
     "text": [
      "5\n",
      "hi\n",
      "bye\n",
      "help\n",
      "e18j\n",
      "t16y\n"
     ]
    }
   ],
   "source": [
    "abbr_words(five_words)"
   ]
  },
  {
   "cell_type": "markdown",
   "id": "bdfe0e24",
   "metadata": {},
   "source": [
    "Problem 231A Team\n",
    "First input line contains a single integer n (1 <= n <= 100), the number of problems in the contest.\n",
    "Then n lines contain three integers each of 0 or 1. \n",
    "If the first number is 1 then petya knows the answer\n",
    "If the second number is 1 then Vasya knows answer \n",
    "If the third number is 1 then Tonya knows answer \n",
    "They will solve a problem if *at least* two of them know the answer "
   ]
  },
  {
   "cell_type": "code",
   "execution_count": 59,
   "id": "74dd6fd8",
   "metadata": {},
   "outputs": [
    {
     "data": {
      "text/plain": [
       "3×3 Matrix{Int64}:\n",
       " 1  1  0\n",
       " 1  1  1\n",
       " 1  0  0"
      ]
     },
     "execution_count": 59,
     "metadata": {},
     "output_type": "execute_result"
    }
   ],
   "source": [
    "# Might start with an easy concrete example \n",
    "a = [ 1 1 0; 1 1 1; 1 0 0 ]"
   ]
  },
  {
   "cell_type": "code",
   "execution_count": 73,
   "id": "6b757248",
   "metadata": {},
   "outputs": [
    {
     "data": {
      "text/plain": [
       "3"
      ]
     },
     "execution_count": 73,
     "metadata": {},
     "output_type": "execute_result"
    }
   ],
   "source": [
    "c = length(a[:,1])"
   ]
  },
  {
   "cell_type": "code",
   "execution_count": 80,
   "id": "acc3d190",
   "metadata": {},
   "outputs": [
    {
     "data": {
      "text/plain": [
       "teamwork (generic function with 1 method)"
      ]
     },
     "execution_count": 80,
     "metadata": {},
     "output_type": "execute_result"
    }
   ],
   "source": [
    "# This was a bad approach; I don't need to store the outcome I need to determine the total\n",
    "# number of outcomes that are greater than 2 i.e. how many problems can they solve\n",
    "function teamwork(input_array)\n",
    "    println(length(input_array[:,1]))\n",
    "    y = []\n",
    "    for i in input_array[:,1]\n",
    "        if i === 1 \n",
    "            push!(y, i)\n",
    "        else\n",
    "            for x in input_array[:,2]\n",
    "                if x == 1\n",
    "                    push!(y, x)\n",
    "                else\n",
    "                    for z in input_array[:,3]\n",
    "                        if z == 1\n",
    "                            push!(y, z)\n",
    "                        end\n",
    "                    end\n",
    "                end\n",
    "            end\n",
    "        end\n",
    "    end\n",
    "end\n",
    "            "
   ]
  },
  {
   "cell_type": "code",
   "execution_count": 81,
   "id": "fc66ffb6",
   "metadata": {},
   "outputs": [
    {
     "name": "stdout",
     "output_type": "stream",
     "text": [
      "3\n"
     ]
    }
   ],
   "source": [
    "teamwork(a)"
   ]
  },
  {
   "cell_type": "code",
   "execution_count": 93,
   "id": "da332a80",
   "metadata": {},
   "outputs": [
    {
     "data": {
      "text/plain": [
       "3×3 Matrix{Int64}:\n",
       " 1  1  0\n",
       " 1  1  1\n",
       " 1  0  0"
      ]
     },
     "execution_count": 93,
     "metadata": {},
     "output_type": "execute_result"
    }
   ],
   "source": [
    "a"
   ]
  },
  {
   "cell_type": "code",
   "execution_count": 95,
   "id": "4f210240",
   "metadata": {},
   "outputs": [
    {
     "data": {
      "text/plain": [
       "3"
      ]
     },
     "execution_count": 95,
     "metadata": {},
     "output_type": "execute_result"
    }
   ],
   "source": [
    "size(a,1) # 3 rows"
   ]
  },
  {
   "cell_type": "code",
   "execution_count": 96,
   "id": "4aaac82a",
   "metadata": {},
   "outputs": [
    {
     "data": {
      "text/plain": [
       "3"
      ]
     },
     "execution_count": 96,
     "metadata": {},
     "output_type": "execute_result"
    }
   ],
   "source": [
    "size(a, 2)# 3 columns "
   ]
  },
  {
   "cell_type": "code",
   "execution_count": 87,
   "id": "bf7af69f",
   "metadata": {
    "scrolled": true
   },
   "outputs": [
    {
     "data": {
      "text/plain": [
       "2"
      ]
     },
     "execution_count": 87,
     "metadata": {},
     "output_type": "execute_result"
    }
   ],
   "source": [
    "sum(a[1,:])"
   ]
  },
  {
   "cell_type": "code",
   "execution_count": 88,
   "id": "94b4d070",
   "metadata": {},
   "outputs": [
    {
     "data": {
      "text/plain": [
       "Base.Generator{Base.OneTo{Int64}, Base.var\"#225#226\"{Matrix{Int64}}}(Base.var\"#225#226\"{Matrix{Int64}}([1 1 0; 1 1 1; 1 0 0]), Base.OneTo(3))"
      ]
     },
     "execution_count": 88,
     "metadata": {},
     "output_type": "execute_result"
    }
   ],
   "source": [
    "eachrow(a)"
   ]
  },
  {
   "cell_type": "code",
   "execution_count": 89,
   "id": "d72a1064",
   "metadata": {},
   "outputs": [
    {
     "name": "stdout",
     "output_type": "stream",
     "text": [
      "search: \u001b[0m\u001b[1me\u001b[22m\u001b[0m\u001b[1ma\u001b[22m\u001b[0m\u001b[1mc\u001b[22m\u001b[0m\u001b[1mh\u001b[22m\u001b[0m\u001b[1mr\u001b[22m\u001b[0m\u001b[1mo\u001b[22m\u001b[0m\u001b[1mw\u001b[22m s\u001b[0m\u001b[1me\u001b[22m\u001b[0m\u001b[1ma\u001b[22mr\u001b[0m\u001b[1mc\u001b[22m\u001b[0m\u001b[1mh\u001b[22mso\u001b[0m\u001b[1mr\u001b[22mted s\u001b[0m\u001b[1me\u001b[22m\u001b[0m\u001b[1ma\u001b[22mr\u001b[0m\u001b[1mc\u001b[22m\u001b[0m\u001b[1mh\u001b[22mso\u001b[0m\u001b[1mr\u001b[22mtedlast s\u001b[0m\u001b[1me\u001b[22m\u001b[0m\u001b[1ma\u001b[22mr\u001b[0m\u001b[1mc\u001b[22m\u001b[0m\u001b[1mh\u001b[22mso\u001b[0m\u001b[1mr\u001b[22mtedfirst\n",
      "\n"
     ]
    },
    {
     "data": {
      "text/latex": [
       "\\begin{verbatim}\n",
       "eachrow(A::AbstractVecOrMat)\n",
       "\\end{verbatim}\n",
       "Create a generator that iterates over the first dimension of vector or matrix \\texttt{A}, returning the rows as \\texttt{AbstractVector} views.\n",
       "\n",
       "See also \\href{@ref}{\\texttt{eachcol}}, \\href{@ref}{\\texttt{eachslice}}, \\href{@ref}{\\texttt{mapslices}}.\n",
       "\n",
       "\\begin{quote}\n",
       "\\textbf{compat}\n",
       "\n",
       "Julia 1.1\n",
       "\n",
       "This function requires at least Julia 1.1.\n",
       "\n",
       "\\end{quote}\n",
       "\\section{Example}\n",
       "\\begin{verbatim}\n",
       "julia> a = [1 2; 3 4]\n",
       "2×2 Matrix{Int64}:\n",
       " 1  2\n",
       " 3  4\n",
       "\n",
       "julia> first(eachrow(a))\n",
       "2-element view(::Matrix{Int64}, 1, :) with eltype Int64:\n",
       " 1\n",
       " 2\n",
       "\n",
       "julia> collect(eachrow(a))\n",
       "2-element Vector{SubArray{Int64, 1, Matrix{Int64}, Tuple{Int64, Base.Slice{Base.OneTo{Int64}}}, true}}:\n",
       " [1, 2]\n",
       " [3, 4]\n",
       "\\end{verbatim}\n"
      ],
      "text/markdown": [
       "```\n",
       "eachrow(A::AbstractVecOrMat)\n",
       "```\n",
       "\n",
       "Create a generator that iterates over the first dimension of vector or matrix `A`, returning the rows as `AbstractVector` views.\n",
       "\n",
       "See also [`eachcol`](@ref), [`eachslice`](@ref), [`mapslices`](@ref).\n",
       "\n",
       "!!! compat \"Julia 1.1\"\n",
       "    This function requires at least Julia 1.1.\n",
       "\n",
       "\n",
       "# Example\n",
       "\n",
       "```jldoctest\n",
       "julia> a = [1 2; 3 4]\n",
       "2×2 Matrix{Int64}:\n",
       " 1  2\n",
       " 3  4\n",
       "\n",
       "julia> first(eachrow(a))\n",
       "2-element view(::Matrix{Int64}, 1, :) with eltype Int64:\n",
       " 1\n",
       " 2\n",
       "\n",
       "julia> collect(eachrow(a))\n",
       "2-element Vector{SubArray{Int64, 1, Matrix{Int64}, Tuple{Int64, Base.Slice{Base.OneTo{Int64}}}, true}}:\n",
       " [1, 2]\n",
       " [3, 4]\n",
       "```\n"
      ],
      "text/plain": [
       "\u001b[36m  eachrow(A::AbstractVecOrMat)\u001b[39m\n",
       "\n",
       "  Create a generator that iterates over the first dimension of vector or\n",
       "  matrix \u001b[36mA\u001b[39m, returning the rows as \u001b[36mAbstractVector\u001b[39m views.\n",
       "\n",
       "  See also \u001b[36meachcol\u001b[39m, \u001b[36meachslice\u001b[39m, \u001b[36mmapslices\u001b[39m.\n",
       "\n",
       "\u001b[39m\u001b[1m  │ \u001b[22m\u001b[39m\u001b[1mJulia 1.1\u001b[22m\n",
       "\u001b[39m\u001b[1m  │\u001b[22m\n",
       "\u001b[39m\u001b[1m  │\u001b[22m  This function requires at least Julia 1.1.\n",
       "\n",
       "\u001b[1m  Example\u001b[22m\n",
       "\u001b[1m  ≡≡≡≡≡≡≡≡≡\u001b[22m\n",
       "\n",
       "\u001b[36m  julia> a = [1 2; 3 4]\u001b[39m\n",
       "\u001b[36m  2×2 Matrix{Int64}:\u001b[39m\n",
       "\u001b[36m   1  2\u001b[39m\n",
       "\u001b[36m   3  4\u001b[39m\n",
       "\u001b[36m  \u001b[39m\n",
       "\u001b[36m  julia> first(eachrow(a))\u001b[39m\n",
       "\u001b[36m  2-element view(::Matrix{Int64}, 1, :) with eltype Int64:\u001b[39m\n",
       "\u001b[36m   1\u001b[39m\n",
       "\u001b[36m   2\u001b[39m\n",
       "\u001b[36m  \u001b[39m\n",
       "\u001b[36m  julia> collect(eachrow(a))\u001b[39m\n",
       "\u001b[36m  2-element Vector{SubArray{Int64, 1, Matrix{Int64}, Tuple{Int64, Base.Slice{Base.OneTo{Int64}}}, true}}:\u001b[39m\n",
       "\u001b[36m   [1, 2]\u001b[39m\n",
       "\u001b[36m   [3, 4]\u001b[39m"
      ]
     },
     "execution_count": 89,
     "metadata": {},
     "output_type": "execute_result"
    }
   ],
   "source": [
    "?eachrow"
   ]
  },
  {
   "cell_type": "code",
   "execution_count": 121,
   "id": "5005c80d",
   "metadata": {},
   "outputs": [
    {
     "data": {
      "text/plain": [
       "2×3 Matrix{Int64}:\n",
       " 1  2  3\n",
       " 4  5  6"
      ]
     },
     "execution_count": 121,
     "metadata": {},
     "output_type": "execute_result"
    }
   ],
   "source": [
    "d = [ 1 2 3; 4 5 6]"
   ]
  },
  {
   "cell_type": "code",
   "execution_count": 128,
   "id": "ce97aaa8",
   "metadata": {},
   "outputs": [
    {
     "name": "stdout",
     "output_type": "stream",
     "text": [
      "[5, 7, 9]\n"
     ]
    },
    {
     "data": {
      "text/plain": [
       "2-element Vector{Int64}:\n",
       "  6\n",
       " 15"
      ]
     },
     "execution_count": 128,
     "metadata": {},
     "output_type": "execute_result"
    }
   ],
   "source": [
    "println(sum(eachrow(d)))\n",
    "sum(eachcol(d))"
   ]
  },
  {
   "cell_type": "code",
   "execution_count": 108,
   "id": "f6d94bd1",
   "metadata": {},
   "outputs": [
    {
     "data": {
      "text/plain": [
       "true"
      ]
     },
     "execution_count": 108,
     "metadata": {},
     "output_type": "execute_result"
    }
   ],
   "source": [
    "6 >= 2"
   ]
  },
  {
   "cell_type": "code",
   "execution_count": 91,
   "id": "cc51f6ef",
   "metadata": {},
   "outputs": [
    {
     "data": {
      "text/plain": [
       "3-element Vector{Int64}:\n",
       " 2\n",
       " 3\n",
       " 1"
      ]
     },
     "execution_count": 91,
     "metadata": {},
     "output_type": "execute_result"
    }
   ],
   "source": [
    "sum(eachcol(a))"
   ]
  },
  {
   "cell_type": "code",
   "execution_count": 119,
   "id": "2fa2ed71",
   "metadata": {},
   "outputs": [
    {
     "data": {
      "text/plain": [
       "teamwork_again (generic function with 1 method)"
      ]
     },
     "execution_count": 119,
     "metadata": {},
     "output_type": "execute_result"
    }
   ],
   "source": [
    "function teamwork_again(arr)\n",
    "    z = sum(eachcol(arr))\n",
    "    println(count(i->(i>=2), z))\n",
    "end"
   ]
  },
  {
   "cell_type": "code",
   "execution_count": 120,
   "id": "881dccba",
   "metadata": {},
   "outputs": [
    {
     "name": "stdout",
     "output_type": "stream",
     "text": [
      "2\n"
     ]
    }
   ],
   "source": [
    "teamwork_again(a) # They will attempt two of the problems  in a"
   ]
  },
  {
   "cell_type": "code",
   "execution_count": 129,
   "id": "9df690b5",
   "metadata": {},
   "outputs": [
    {
     "data": {
      "text/plain": [
       "5×3 Matrix{Int64}:\n",
       " 1  1  0\n",
       " 1  0  1\n",
       " 1  1  1\n",
       " 0  0  0\n",
       " 0  1  1"
      ]
     },
     "execution_count": 129,
     "metadata": {},
     "output_type": "execute_result"
    }
   ],
   "source": [
    "# Trial input \n",
    "e = [1 1 0; 1 0 1; 1 1 1; 0 0 0; 0 1 1]"
   ]
  },
  {
   "cell_type": "code",
   "execution_count": 130,
   "id": "71909376",
   "metadata": {},
   "outputs": [
    {
     "name": "stdout",
     "output_type": "stream",
     "text": [
      "4\n"
     ]
    }
   ],
   "source": [
    "teamwork_again(e)"
   ]
  }
 ],
 "metadata": {
  "kernelspec": {
   "display_name": "Julia 1.7.3",
   "language": "julia",
   "name": "julia-1.7"
  },
  "language_info": {
   "file_extension": ".jl",
   "mimetype": "application/julia",
   "name": "julia",
   "version": "1.7.3"
  }
 },
 "nbformat": 4,
 "nbformat_minor": 5
}
